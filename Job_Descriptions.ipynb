{
 "cells": [
  {
   "cell_type": "markdown",
   "metadata": {},
   "source": [
    "# Lets look at Data Science vs. Machine Learning!\n",
    "\n",
    "We'll use a few algorithms to investigate. But first, we get the data, which consists of 150 job descriptions from searches for \"data science jobs\", \"machine learning jobs\", and \"jobs\" (for the control data). (Data Science = ds, Machine Learning = ml)"
   ]
  },
  {
   "cell_type": "code",
   "execution_count": 10,
   "metadata": {},
   "outputs": [],
   "source": [
    "desc_file_names = [\"cont_desc$(k).txt\" for k=1:40]; #save 10 files for testing\n",
    "\n",
    "control_desc = [readstring(\"C_group_utf\\\\$k\") for k in desc_file_names];\n",
    "ds_desc = [readstring(\"D_group_utf\\\\$k\") for k in desc_file_names];\n",
    "ml_desc = [readstring(\"M_group_utf\\\\$k\") for k in desc_file_names];"
   ]
  },
  {
   "cell_type": "markdown",
   "metadata": {},
   "source": [
    "Now we preprocess. The goal is to get dicts for each data set, in the form \"word\" => number of instances. We first use regular expressions to divide into arrays of words, and then build the dicts."
   ]
  },
  {
   "cell_type": "code",
   "execution_count": 25,
   "metadata": {},
   "outputs": [
    {
     "name": "stderr",
     "output_type": "stream",
     "text": [
      "WARNING: Method definition text2Words(Any) in module Main at In[24]:2 overwritten at In[25]:2.\n",
      "WARNING: Method definition wordCount(Any) in module Main at In[24]:10 overwritten at In[25]:10.\n"
     ]
    }
   ],
   "source": [
    "function text2Words(text)\n",
    "  matchall(r\"(\\w+)\",lowercase(replace(text, r\"([\\r\\n,\\.\\(\\)!;:\\?/]|\\ufeff)\", s\" \")))\n",
    "end\n",
    "\n",
    "control_words = text2Words(join(control_desc, \" \"));\n",
    "ds_words = text2Words(join(ds_desc, \" \"));\n",
    "ml_words = text2Words(join(ml_desc, \" \"));\n",
    "\n",
    "function wordCount(words)\n",
    "  worddict = Dict{String,Int64}()\n",
    "  for w in words\n",
    "    worddict[w]=get(worddict,w,0) + 1\n",
    "  end\n",
    "  worddict\n",
    "end\n",
    "\n",
    "control_dict = wordCount(control_words);\n",
    "ds_dict = wordCount(ds_words);\n",
    "ml_dict = wordCount(ml_words);"
   ]
  },
  {
   "cell_type": "markdown",
   "metadata": {},
   "source": [
    "So, for example, how many times does \"data\" occur in the data science descriptions?"
   ]
  },
  {
   "cell_type": "code",
   "execution_count": 26,
   "metadata": {},
   "outputs": [
    {
     "data": {
      "text/plain": [
       "400"
      ]
     },
     "execution_count": 26,
     "metadata": {},
     "output_type": "execute_result"
    }
   ],
   "source": [
    "ds_dict[\"data\"]"
   ]
  },
  {
   "cell_type": "markdown",
   "metadata": {},
   "source": [
    "## WordNorm Comparison to Control\n",
    "\n",
    "Okay, now lets get to our first algorithm. WordNorm comes in several flavors, as outlined in the project description. Essentially, though, they are all a variant on $$WN_{\\alpha\\beta}(w) = \\frac{\\alpha(w)-\\beta(w)}{\\alpha(w)+\\beta(w)}$$ where $\\alpha$ and $\\beta$ represent word counts, and $w$ is a word. Here we'll start with the one for comparison to the control, which adds 1 to the word count for control words."
   ]
  },
  {
   "cell_type": "code",
   "execution_count": 27,
   "metadata": {},
   "outputs": [
    {
     "name": "stderr",
     "output_type": "stream",
     "text": [
      "WARNING: Method definition wordNormCont(Any, Any) in module Main at In[15]:2 overwritten at In[27]:2.\n"
     ]
    }
   ],
   "source": [
    "function wordNormCont(sample, control)\n",
    "  norm_sample = Dict{String,Float64}()\n",
    "  for k in keys(sample)\n",
    "    c = get(control,k,0)+1\n",
    "    norm_sample[k] = (sample[k]-c)/(sample[k]+c)\n",
    "  end\n",
    "  norm_sample\n",
    "end\n",
    "\n",
    "wn_ds = wordNormCont(ds_dict, control_dict);\n",
    "wn_ml = wordNormCont(ml_dict, control_dict);"
   ]
  },
  {
   "cell_type": "markdown",
   "metadata": {},
   "source": [
    "Lets get the top 10 words in each category, with their score!"
   ]
  },
  {
   "cell_type": "code",
   "execution_count": 35,
   "metadata": {
    "collapsed": true
   },
   "outputs": [
    {
     "name": "stderr",
     "output_type": "stream",
     "text": [
      "WARNING: Method definition maxWords(Any, Any) in module Main at In[33]:2"
     ]
    },
    {
     "data": {
      "text/plain": [
       "maxWords (generic function with 1 method)"
      ]
     },
     "execution_count": 35,
     "metadata": {},
     "output_type": "execute_result"
    },
    {
     "name": "stderr",
     "output_type": "stream",
     "text": [
      " overwritten at In[35]:2.\n"
     ]
    }
   ],
   "source": [
    "function maxWords(sample, num_words)\n",
    "  sort(collect(sample), by=tuple -> last(tuple),rev=true)[1:num_words]\n",
    "end"
   ]
  },
  {
   "cell_type": "code",
   "execution_count": 36,
   "metadata": {
    "scrolled": false
   },
   "outputs": [
    {
     "data": {
      "text/plain": [
       "10-element Array{Pair{String,Float64},1}:\n",
       " \"quantitative\"=>0.941176 \n",
       " \"r\"=>0.935484            \n",
       " \"statistical\"=>0.935484  \n",
       " \"statistics\"=>0.931034   \n",
       " \"predictive\"=>0.916667   \n",
       " \"python\"=>0.9            \n",
       " \"visualization\"=>0.888889\n",
       " \"spark\"=>0.882353        \n",
       " \"academy\"=>0.875         \n",
       " \"hadoop\"=>0.875          "
      ]
     },
     "execution_count": 36,
     "metadata": {},
     "output_type": "execute_result"
    }
   ],
   "source": [
    "maxWords(wn_ds, 10)"
   ]
  },
  {
   "cell_type": "code",
   "execution_count": 37,
   "metadata": {
    "scrolled": false
   },
   "outputs": [
    {
     "data": {
      "text/plain": [
       "10-element Array{Pair{String,Float64},1}:\n",
       " \"learning\"=>0.941176    \n",
       " \"machine\"=>0.941176     \n",
       " \"ai\"=>0.923077          \n",
       " \"algorithms\"=>0.918367  \n",
       " \"ml\"=>0.916667          \n",
       " \"r\"=>0.913043           \n",
       " \"spark\"=>0.909091       \n",
       " \"python\"=>0.902439      \n",
       " \"quantitative\"=>0.888889\n",
       " \"hadoop\"=>0.882353      "
      ]
     },
     "execution_count": 37,
     "metadata": {},
     "output_type": "execute_result"
    }
   ],
   "source": [
    "maxWords(wn_ml,10)"
   ]
  },
  {
   "cell_type": "markdown",
   "metadata": {},
   "source": [
    "Now we plot:"
   ]
  },
  {
   "cell_type": "code",
   "execution_count": 42,
   "metadata": {},
   "outputs": [
    {
     "name": "stderr",
     "output_type": "stream",
     "text": [
      "WARNING: Method definition barWordNormCtrl(Any, "
     ]
    },
    {
     "data": {
      "text/html": [
       "<img src=\"data:image/png;base64,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\" />"
      ]
     },
     "execution_count": 42,
     "metadata": {},
     "output_type": "execute_result"
    },
    {
     "name": "stderr",
     "output_type": "stream",
     "text": [
      "Any) in module Main at In[41]:5 overwritten at In[42]:5.\n"
     ]
    }
   ],
   "source": [
    "using Plots\n",
    "\n",
    "function barWordNormCtrl(data_norm, ml_norm)\n",
    "  #arrays of pairs word => WordNorm_ds/ml(word) for top 10 ds/ml words in order\n",
    "  ds_top = maxWords(data_norm, 10)\n",
    "  ml_top = maxWords(ml_norm, 10)\n",
    "\n",
    "  #arrays of WordNorm_ds/ml(word) for top 10 ds/ml words in order\n",
    "  ds_top_num = [ds_top[k][2] for k=1:10]\n",
    "  ml_top_num = [ml_top[k][2] for k=1:10]\n",
    "\n",
    "  #arrays of word for top 10 ds/ml words in order\n",
    "  ds_top_word = [ds_top[k][1] for k=1:10]\n",
    "  ml_top_word = [ml_top[k][1] for k=1:10]\n",
    "\n",
    "  #arrays of WordNorm_ml/ds(word) for top 10 ds/ml words in order\n",
    "  ds_top_ml_num = [get(ml_norm,k,-1) for k in ds_top_word]\n",
    "  ml_top_ds_num = [get(data_norm,k,-1) for k in ml_top_word]\n",
    "\n",
    "  m=\"Machine Learning\"\n",
    "  d=\"Data Science\"\n",
    "\n",
    "  bar([1:10 1:10 0.85:9.85 0.85:9.85], [ds_top_ml_num ml_top_ds_num ds_top_num ml_top_num],\n",
    "        label=[nothing \"$d WordNorm\" nothing \"$m WordNorm\"], legend=[false true],\n",
    "        bar_width = 0.8, layout = 2, ylims = (-1,1),\n",
    "        title=[\"WordNorm for Top 10 $d Words\" \"WordNorm for Top 10 $m Words\"],\n",
    "        left_margin = 2*mm, right_margin=2*mm, top_margin=2*mm, bottom_margin=5*mm,\n",
    "        xrotation = rad2deg(pi/3), size = (1000,500),\n",
    "        xticks = [(1:10, ds_top_word) (1:10, ml_top_word)],\n",
    "        color = [:orange :blue :blue :orange])\n",
    "end\n",
    "\n",
    "barWordNormCtrl(wn_ds, wn_ml)"
   ]
  },
  {
   "cell_type": "markdown",
   "metadata": {},
   "source": [
    "We see that there's a good bit of overlap, but some differences, which make lots of sense! \"visualization\", for example, is clearly something important to Data Science, but not as important to Machine Learning. \"ai\" is the clear comparative winner for Machine Learning. \"academy\" required a deeper look, but it turns out that this appears a bunch of times in one specific Machine Learning job description, so we should probably just ignore this."
   ]
  },
  {
   "cell_type": "markdown",
   "metadata": {},
   "source": [
    "## Word Norm: Comparing DS to ML directly\n",
    "\n",
    "Now rather than individually comparing DS and ML to the control, we compare them directly. This involves modifying WordNorm by adding $\\frac{1}{2}$ to each word count in both samples."
   ]
  },
  {
   "cell_type": "code",
   "execution_count": 43,
   "metadata": {
    "collapsed": true
   },
   "outputs": [],
   "source": [
    "function compareNorm(sample, csample)\n",
    "  comp = Dict{String,Float64}()\n",
    "  for k in keys(sample)\n",
    "    c = get(csample,k,0)\n",
    "    comp[k] = (sample[k]-c)/(sample[k]+c+1)\n",
    "  end\n",
    "  comp\n",
    "end\n",
    "\n",
    "mlvsds = compareNorm(ml_dict, ds_dict);\n",
    "dsvsml = compareNorm(ds_dict, ml_dict);"
   ]
  },
  {
   "cell_type": "code",
   "execution_count": 44,
   "metadata": {},
   "outputs": [
    {
     "data": {
      "text/plain": [
       "10-element Array{Pair{String,Float64},1}:\n",
       " \"ai\"=>0.961538        \n",
       " \"speech\"=>0.933333    \n",
       " \"coupa\"=>0.916667     \n",
       " \"tensorflow\"=>0.909091\n",
       " \"samsung\"=>0.909091   \n",
       " \"ford\"=>0.888889      \n",
       " \"ml\"=>0.88            \n",
       " \"caffe\"=>0.875        \n",
       " \"gpu\"=>0.857143       \n",
       " \"extraction\"=>0.857143"
      ]
     },
     "execution_count": 44,
     "metadata": {},
     "output_type": "execute_result"
    }
   ],
   "source": [
    "maxWords(mlvsds, 10)"
   ]
  },
  {
   "cell_type": "code",
   "execution_count": 45,
   "metadata": {},
   "outputs": [
    {
     "data": {
      "text/plain": [
       "10-element Array{Pair{String,Float64},1}:\n",
       " \"nielsen\"=>0.967742 \n",
       " \"academy\"=>0.9375   \n",
       " \"aig\"=>0.928571     \n",
       " \"director\"=>0.928571\n",
       " \"office\"=>0.923077  \n",
       " \"credit\"=>0.916667  \n",
       " \"tivo\"=>0.909091    \n",
       " \"its\"=>0.909091     \n",
       " \"integral\"=>0.9     \n",
       " \"consumers\"=>0.9    "
      ]
     },
     "execution_count": 45,
     "metadata": {},
     "output_type": "execute_result"
    }
   ],
   "source": [
    "maxWords(dsvsml, 10)"
   ]
  },
  {
   "cell_type": "markdown",
   "metadata": {},
   "source": []
  }
 ],
 "metadata": {
  "kernelspec": {
   "display_name": "Julia 0.5.1",
   "language": "julia",
   "name": "julia-0.5"
  },
  "language_info": {
   "file_extension": ".jl",
   "mimetype": "application/julia",
   "name": "julia",
   "version": "0.5.1"
  }
 },
 "nbformat": 4,
 "nbformat_minor": 2
}
